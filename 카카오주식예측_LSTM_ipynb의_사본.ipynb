{
  "nbformat": 4,
  "nbformat_minor": 0,
  "metadata": {
    "colab": {
      "name": "카카오주식예측 LSTM.ipynb의 사본",
      "provenance": [],
      "collapsed_sections": [],
      "include_colab_link": true
    },
    "kernelspec": {
      "name": "python3",
      "display_name": "Python 3"
    }
  },
  "cells": [
    {
      "cell_type": "markdown",
      "metadata": {
        "id": "view-in-github",
        "colab_type": "text"
      },
      "source": [
        "<a href=\"https://colab.research.google.com/github/ksy2090/StockAnalysisInPython/blob/master/%EC%B9%B4%EC%B9%B4%EC%98%A4%EC%A3%BC%EC%8B%9D%EC%98%88%EC%B8%A1_LSTM_ipynb%EC%9D%98_%EC%82%AC%EB%B3%B8.ipynb\" target=\"_parent\"><img src=\"https://colab.research.google.com/assets/colab-badge.svg\" alt=\"Open In Colab\"/></a>"
      ]
    },
    {
      "cell_type": "code",
      "metadata": {
        "id": "GC5vgU5KBOvH"
      },
      "source": [
        "import pandas as pd\r\n",
        "import numpy as np\r\n",
        "import matplotlib.pyplot as plt\r\n",
        "import seaborn as sns\r\n",
        "import warnings\r\n",
        "import os\r\n",
        "\r\n",
        "%matplotlib inline\r\n",
        "warnings.filterwarnings('ignore')\r\n",
        "\r\n",
        "plt.rcParams['font.family'] = 'NanumGothic'"
      ],
      "execution_count": null,
      "outputs": []
    },
    {
      "cell_type": "code",
      "metadata": {
        "id": "736pFz_-CMxQ"
      },
      "source": [
        "# FinanceDataReader는 주가 데이터를 편리하게 가져올 수 있는 파이썬 패키지\r\n",
        "# !pip install finance-datareader"
      ],
      "execution_count": null,
      "outputs": []
    },
    {
      "cell_type": "code",
      "metadata": {
        "id": "9s57IWL0COp-"
      },
      "source": [
        "import FinanceDataReader as fdr"
      ],
      "execution_count": null,
      "outputs": []
    },
    {
      "cell_type": "code",
      "metadata": {
        "id": "9hxR1y5vCRIM"
      },
      "source": [
        "# 카카오 종목코드: 035720\r\n",
        "kakao = fdr.DataReader('035720')\r\n",
        "# 데이터를 DataFrame으로 가져오기"
      ],
      "execution_count": null,
      "outputs": []
    },
    {
      "cell_type": "code",
      "metadata": {
        "colab": {
          "base_uri": "https://localhost:8080/",
          "height": 228
        },
        "id": "FWKYz9O-CYVP",
        "outputId": "929e3b2f-8464-4f6e-87fe-91e320e18122"
      },
      "source": [
        "kakao.tail()"
      ],
      "execution_count": null,
      "outputs": [
        {
          "output_type": "execute_result",
          "data": {
            "text/html": [
              "<div>\n",
              "<style scoped>\n",
              "    .dataframe tbody tr th:only-of-type {\n",
              "        vertical-align: middle;\n",
              "    }\n",
              "\n",
              "    .dataframe tbody tr th {\n",
              "        vertical-align: top;\n",
              "    }\n",
              "\n",
              "    .dataframe thead th {\n",
              "        text-align: right;\n",
              "    }\n",
              "</style>\n",
              "<table border=\"1\" class=\"dataframe\">\n",
              "  <thead>\n",
              "    <tr style=\"text-align: right;\">\n",
              "      <th></th>\n",
              "      <th>Open</th>\n",
              "      <th>High</th>\n",
              "      <th>Low</th>\n",
              "      <th>Close</th>\n",
              "      <th>Volume</th>\n",
              "      <th>Change</th>\n",
              "    </tr>\n",
              "    <tr>\n",
              "      <th>Date</th>\n",
              "      <th></th>\n",
              "      <th></th>\n",
              "      <th></th>\n",
              "      <th></th>\n",
              "      <th></th>\n",
              "      <th></th>\n",
              "    </tr>\n",
              "  </thead>\n",
              "  <tbody>\n",
              "    <tr>\n",
              "      <th>2021-01-27</th>\n",
              "      <td>463000</td>\n",
              "      <td>477000</td>\n",
              "      <td>461000</td>\n",
              "      <td>465000</td>\n",
              "      <td>719814</td>\n",
              "      <td>0.008677</td>\n",
              "    </tr>\n",
              "    <tr>\n",
              "      <th>2021-01-28</th>\n",
              "      <td>454000</td>\n",
              "      <td>468500</td>\n",
              "      <td>452000</td>\n",
              "      <td>458000</td>\n",
              "      <td>921812</td>\n",
              "      <td>-0.015054</td>\n",
              "    </tr>\n",
              "    <tr>\n",
              "      <th>2021-01-29</th>\n",
              "      <td>460000</td>\n",
              "      <td>460500</td>\n",
              "      <td>436000</td>\n",
              "      <td>441000</td>\n",
              "      <td>1070093</td>\n",
              "      <td>-0.037118</td>\n",
              "    </tr>\n",
              "    <tr>\n",
              "      <th>2021-02-01</th>\n",
              "      <td>436000</td>\n",
              "      <td>443000</td>\n",
              "      <td>425000</td>\n",
              "      <td>441500</td>\n",
              "      <td>910101</td>\n",
              "      <td>0.001134</td>\n",
              "    </tr>\n",
              "    <tr>\n",
              "      <th>2021-02-02</th>\n",
              "      <td>450000</td>\n",
              "      <td>457000</td>\n",
              "      <td>443500</td>\n",
              "      <td>446000</td>\n",
              "      <td>539283</td>\n",
              "      <td>0.010193</td>\n",
              "    </tr>\n",
              "  </tbody>\n",
              "</table>\n",
              "</div>"
            ],
            "text/plain": [
              "              Open    High     Low   Close   Volume    Change\n",
              "Date                                                         \n",
              "2021-01-27  463000  477000  461000  465000   719814  0.008677\n",
              "2021-01-28  454000  468500  452000  458000   921812 -0.015054\n",
              "2021-01-29  460000  460500  436000  441000  1070093 -0.037118\n",
              "2021-02-01  436000  443000  425000  441500   910101  0.001134\n",
              "2021-02-02  450000  457000  443500  446000   539283  0.010193"
            ]
          },
          "metadata": {
            "tags": []
          },
          "execution_count": 5
        }
      ]
    },
    {
      "cell_type": "markdown",
      "metadata": {
        "id": "JGfE6226EBco"
      },
      "source": [
        "Open: 시가\r\n",
        "High: 고가\r\n",
        "Low: 저가\r\n",
        "Close: 종가\r\n",
        "Volume: 거래량\r\n",
        "Change: 대비"
      ]
    },
    {
      "cell_type": "code",
      "metadata": {
        "id": "RXcfJ_PxCb-s"
      },
      "source": [
        "STOCK_CODE = '035720'"
      ],
      "execution_count": null,
      "outputs": []
    },
    {
      "cell_type": "code",
      "metadata": {
        "id": "Bve2il9NCnQp"
      },
      "source": [
        "stock = fdr.DataReader(STOCK_CODE)"
      ],
      "execution_count": null,
      "outputs": []
    },
    {
      "cell_type": "code",
      "metadata": {
        "colab": {
          "base_uri": "https://localhost:8080/",
          "height": 228
        },
        "id": "bv9pt6FOCoUE",
        "outputId": "e1786262-8344-4a01-d262-ef84c60ee677"
      },
      "source": [
        "stock.head()\r\n"
      ],
      "execution_count": null,
      "outputs": [
        {
          "output_type": "execute_result",
          "data": {
            "text/html": [
              "<div>\n",
              "<style scoped>\n",
              "    .dataframe tbody tr th:only-of-type {\n",
              "        vertical-align: middle;\n",
              "    }\n",
              "\n",
              "    .dataframe tbody tr th {\n",
              "        vertical-align: top;\n",
              "    }\n",
              "\n",
              "    .dataframe thead th {\n",
              "        text-align: right;\n",
              "    }\n",
              "</style>\n",
              "<table border=\"1\" class=\"dataframe\">\n",
              "  <thead>\n",
              "    <tr style=\"text-align: right;\">\n",
              "      <th></th>\n",
              "      <th>Open</th>\n",
              "      <th>High</th>\n",
              "      <th>Low</th>\n",
              "      <th>Close</th>\n",
              "      <th>Volume</th>\n",
              "      <th>Change</th>\n",
              "    </tr>\n",
              "    <tr>\n",
              "      <th>Date</th>\n",
              "      <th></th>\n",
              "      <th></th>\n",
              "      <th></th>\n",
              "      <th></th>\n",
              "      <th></th>\n",
              "      <th></th>\n",
              "    </tr>\n",
              "  </thead>\n",
              "  <tbody>\n",
              "    <tr>\n",
              "      <th>1999-11-11</th>\n",
              "      <td>4979</td>\n",
              "      <td>4979</td>\n",
              "      <td>4979</td>\n",
              "      <td>4979</td>\n",
              "      <td>12</td>\n",
              "      <td>NaN</td>\n",
              "    </tr>\n",
              "    <tr>\n",
              "      <th>1999-11-12</th>\n",
              "      <td>5557</td>\n",
              "      <td>5557</td>\n",
              "      <td>5557</td>\n",
              "      <td>5557</td>\n",
              "      <td>140</td>\n",
              "      <td>0.116088</td>\n",
              "    </tr>\n",
              "    <tr>\n",
              "      <th>1999-11-15</th>\n",
              "      <td>6224</td>\n",
              "      <td>6224</td>\n",
              "      <td>6224</td>\n",
              "      <td>6223</td>\n",
              "      <td>405</td>\n",
              "      <td>0.119849</td>\n",
              "    </tr>\n",
              "    <tr>\n",
              "      <th>1999-11-16</th>\n",
              "      <td>6957</td>\n",
              "      <td>6957</td>\n",
              "      <td>6957</td>\n",
              "      <td>6957</td>\n",
              "      <td>214</td>\n",
              "      <td>0.117950</td>\n",
              "    </tr>\n",
              "    <tr>\n",
              "      <th>1999-11-17</th>\n",
              "      <td>7780</td>\n",
              "      <td>7780</td>\n",
              "      <td>7780</td>\n",
              "      <td>7779</td>\n",
              "      <td>191</td>\n",
              "      <td>0.118154</td>\n",
              "    </tr>\n",
              "  </tbody>\n",
              "</table>\n",
              "</div>"
            ],
            "text/plain": [
              "            Open  High   Low  Close  Volume    Change\n",
              "Date                                                 \n",
              "1999-11-11  4979  4979  4979   4979      12       NaN\n",
              "1999-11-12  5557  5557  5557   5557     140  0.116088\n",
              "1999-11-15  6224  6224  6224   6223     405  0.119849\n",
              "1999-11-16  6957  6957  6957   6957     214  0.117950\n",
              "1999-11-17  7780  7780  7780   7779     191  0.118154"
            ]
          },
          "metadata": {
            "tags": []
          },
          "execution_count": 8
        }
      ]
    },
    {
      "cell_type": "code",
      "metadata": {
        "colab": {
          "base_uri": "https://localhost:8080/",
          "height": 569
        },
        "id": "0-PEt4z3Cr2H",
        "outputId": "0f4c0ad3-0270-430e-a1ab-71ed5e38dd19"
      },
      "source": [
        "#시각화\r\n",
        "plt.figure(figsize=(16, 9))\r\n",
        "sns.lineplot(y=stock['Close'], x=stock.index)\r\n",
        "plt.xlabel('time')\r\n",
        "plt.ylabel('price')"
      ],
      "execution_count": null,
      "outputs": [
        {
          "output_type": "execute_result",
          "data": {
            "text/plain": [
              "Text(0, 0.5, 'price')"
            ]
          },
          "metadata": {
            "tags": []
          },
          "execution_count": 9
        },
        {
          "output_type": "stream",
          "text": [
            "findfont: Font family ['NanumGothic'] not found. Falling back to DejaVu Sans.\n"
          ],
          "name": "stderr"
        },
        {
          "output_type": "display_data",
          "data": {
            "image/png": "[encoded data removed]",
            "text/plain": [
              "<Figure size 1152x648 with 1 Axes>"
            ]
          },
          "metadata": {
            "tags": [],
            "needs_background": "light"
          }
        }
      ]
    },
    {
      "cell_type": "code",
      "metadata": {
        "colab": {
          "base_uri": "https://localhost:8080/"
        },
        "id": "L115y8D6CyWK",
        "outputId": "cd9975df-31e6-4233-c1aa-922300523983"
      },
      "source": [
        "# 데이터 전처리\r\n",
        "from sklearn.preprocessing import MinMaxScaler\r\n",
        "\r\n",
        "scaler = MinMaxScaler()\r\n",
        "# 스케일을 적용할 column을 정의합니다.\r\n",
        "scale_cols = ['Open', 'High', 'Low', 'Close', 'Volume']\r\n",
        "# 스케일 후 columns\r\n",
        "scaled = scaler.fit_transform(stock[scale_cols])\r\n",
        "scaled"
      ],
      "execution_count": null,
      "outputs": [
        {
          "output_type": "execute_result",
          "data": {
            "text/plain": [
              "array([[1.03945720e-02, 1.03945720e-02, 1.08004338e-02, 0.00000000e+00,\n",
              "        2.29796837e-06],\n",
              "       [1.16012526e-02, 1.16012526e-02, 1.20542299e-02, 1.23366936e-03,\n",
              "        2.68096309e-05],\n",
              "       [1.29937370e-02, 1.29937370e-02, 1.35010846e-02, 2.65516380e-03,\n",
              "        7.75564324e-05],\n",
              "       ...,\n",
              "       [9.60334029e-01, 9.61377871e-01, 9.45770065e-01, 9.30632778e-01,\n",
              "        2.04919989e-01],\n",
              "       [9.10229645e-01, 9.24843424e-01, 9.21908894e-01, 9.31699966e-01,\n",
              "        1.74281942e-01],\n",
              "       [9.39457203e-01, 9.54070981e-01, 9.62039046e-01, 9.41304659e-01,\n",
              "        1.03271273e-01]])"
            ]
          },
          "metadata": {
            "tags": []
          },
          "execution_count": 10
        }
      ]
    },
    {
      "cell_type": "code",
      "metadata": {
        "id": "fwIApIgcC09E"
      },
      "source": [
        "df = pd.DataFrame(scaled, columns=scale_cols)"
      ],
      "execution_count": null,
      "outputs": []
    },
    {
      "cell_type": "code",
      "metadata": {
        "colab": {
          "base_uri": "https://localhost:8080/"
        },
        "id": "aae7UlHVC4CA",
        "outputId": "0c9b61d5-943d-496e-ee0b-c401d52047d6"
      },
      "source": [
        "#train / test 분할\r\n",
        "from sklearn.model_selection import train_test_split\r\n",
        "x_train, x_test, y_train, y_test = train_test_split(df.drop('Close', 1), df['Close'], test_size=0.2, random_state=0, shuffle=False)\r\n",
        "x_train.shape, y_train.shape"
      ],
      "execution_count": null,
      "outputs": [
        {
          "output_type": "execute_result",
          "data": {
            "text/plain": [
              "((4192, 4), (4192,))"
            ]
          },
          "metadata": {
            "tags": []
          },
          "execution_count": 12
        }
      ]
    },
    {
      "cell_type": "code",
      "metadata": {
        "colab": {
          "base_uri": "https://localhost:8080/"
        },
        "id": "PC9sOV15C7y0",
        "outputId": "e7fd0ab8-62a4-4353-b272-3f5934d76d68"
      },
      "source": [
        "x_test.shape, y_test.shape"
      ],
      "execution_count": null,
      "outputs": [
        {
          "output_type": "execute_result",
          "data": {
            "text/plain": [
              "((1048, 4), (1048,))"
            ]
          },
          "metadata": {
            "tags": []
          },
          "execution_count": 13
        }
      ]
    },
    {
      "cell_type": "code",
      "metadata": {
        "colab": {
          "base_uri": "https://localhost:8080/",
          "height": 408
        },
        "id": "NtGBGRRbC9Dg",
        "outputId": "a5ca433b-c691-4bfb-c547-81446cff8dba"
      },
      "source": [
        "x_train"
      ],
      "execution_count": null,
      "outputs": [
        {
          "output_type": "execute_result",
          "data": {
            "text/html": [
              "<div>\n",
              "<style scoped>\n",
              "    .dataframe tbody tr th:only-of-type {\n",
              "        vertical-align: middle;\n",
              "    }\n",
              "\n",
              "    .dataframe tbody tr th {\n",
              "        vertical-align: top;\n",
              "    }\n",
              "\n",
              "    .dataframe thead th {\n",
              "        text-align: right;\n",
              "    }\n",
              "</style>\n",
              "<table border=\"1\" class=\"dataframe\">\n",
              "  <thead>\n",
              "    <tr style=\"text-align: right;\">\n",
              "      <th></th>\n",
              "      <th>Open</th>\n",
              "      <th>High</th>\n",
              "      <th>Low</th>\n",
              "      <th>Volume</th>\n",
              "    </tr>\n",
              "  </thead>\n",
              "  <tbody>\n",
              "    <tr>\n",
              "      <th>0</th>\n",
              "      <td>0.010395</td>\n",
              "      <td>0.010395</td>\n",
              "      <td>0.010800</td>\n",
              "      <td>0.000002</td>\n",
              "    </tr>\n",
              "    <tr>\n",
              "      <th>1</th>\n",
              "      <td>0.011601</td>\n",
              "      <td>0.011601</td>\n",
              "      <td>0.012054</td>\n",
              "      <td>0.000027</td>\n",
              "    </tr>\n",
              "    <tr>\n",
              "      <th>2</th>\n",
              "      <td>0.012994</td>\n",
              "      <td>0.012994</td>\n",
              "      <td>0.013501</td>\n",
              "      <td>0.000078</td>\n",
              "    </tr>\n",
              "    <tr>\n",
              "      <th>3</th>\n",
              "      <td>0.014524</td>\n",
              "      <td>0.014524</td>\n",
              "      <td>0.015091</td>\n",
              "      <td>0.000041</td>\n",
              "    </tr>\n",
              "    <tr>\n",
              "      <th>4</th>\n",
              "      <td>0.016242</td>\n",
              "      <td>0.016242</td>\n",
              "      <td>0.016876</td>\n",
              "      <td>0.000037</td>\n",
              "    </tr>\n",
              "    <tr>\n",
              "      <th>...</th>\n",
              "      <td>...</td>\n",
              "      <td>...</td>\n",
              "      <td>...</td>\n",
              "      <td>...</td>\n",
              "    </tr>\n",
              "    <tr>\n",
              "      <th>4187</th>\n",
              "      <td>0.170355</td>\n",
              "      <td>0.170564</td>\n",
              "      <td>0.174403</td>\n",
              "      <td>0.036816</td>\n",
              "    </tr>\n",
              "    <tr>\n",
              "      <th>4188</th>\n",
              "      <td>0.170564</td>\n",
              "      <td>0.170564</td>\n",
              "      <td>0.174620</td>\n",
              "      <td>0.028747</td>\n",
              "    </tr>\n",
              "    <tr>\n",
              "      <th>4189</th>\n",
              "      <td>0.167641</td>\n",
              "      <td>0.172651</td>\n",
              "      <td>0.174187</td>\n",
              "      <td>0.058442</td>\n",
              "    </tr>\n",
              "    <tr>\n",
              "      <th>4190</th>\n",
              "      <td>0.172025</td>\n",
              "      <td>0.172234</td>\n",
              "      <td>0.174403</td>\n",
              "      <td>0.036307</td>\n",
              "    </tr>\n",
              "    <tr>\n",
              "      <th>4191</th>\n",
              "      <td>0.168894</td>\n",
              "      <td>0.170772</td>\n",
              "      <td>0.175271</td>\n",
              "      <td>0.023599</td>\n",
              "    </tr>\n",
              "  </tbody>\n",
              "</table>\n",
              "<p>4192 rows × 4 columns</p>\n",
              "</div>"
            ],
            "text/plain": [
              "          Open      High       Low    Volume\n",
              "0     0.010395  0.010395  0.010800  0.000002\n",
              "1     0.011601  0.011601  0.012054  0.000027\n",
              "2     0.012994  0.012994  0.013501  0.000078\n",
              "3     0.014524  0.014524  0.015091  0.000041\n",
              "4     0.016242  0.016242  0.016876  0.000037\n",
              "...        ...       ...       ...       ...\n",
              "4187  0.170355  0.170564  0.174403  0.036816\n",
              "4188  0.170564  0.170564  0.174620  0.028747\n",
              "4189  0.167641  0.172651  0.174187  0.058442\n",
              "4190  0.172025  0.172234  0.174403  0.036307\n",
              "4191  0.168894  0.170772  0.175271  0.023599\n",
              "\n",
              "[4192 rows x 4 columns]"
            ]
          },
          "metadata": {
            "tags": []
          },
          "execution_count": 14
        }
      ]
    },
    {
      "cell_type": "code",
      "metadata": {
        "id": "yTr_vrB6C-SL"
      },
      "source": [
        "#TensroFlow Dataset을 활용한 시퀀스 데이터셋\r\n",
        "import tensorflow as tf\r\n",
        "def windowed_dataset(series, window_size, batch_size, shuffle):\r\n",
        "    series = tf.expand_dims(series, axis=-1)\r\n",
        "    ds = tf.data.Dataset.from_tensor_slices(series)\r\n",
        "    ds = ds.window(window_size + 1, shift=1, drop_remainder=True)\r\n",
        "    ds = ds.flat_map(lambda w: w.batch(window_size + 1))\r\n",
        "    if shuffle:\r\n",
        "        ds = ds.shuffle(1000)\r\n",
        "    ds = ds.map(lambda w: (w[:-1], w[-1]))\r\n",
        "    return ds.batch(batch_size).prefetch(1)"
      ],
      "execution_count": null,
      "outputs": []
    },
    {
      "cell_type": "code",
      "metadata": {
        "id": "k55hu_XFDCAZ"
      },
      "source": [
        "#Hyperparameter\r\n",
        "WINDOW_SIZE=20\r\n",
        "BATCH_SIZE=32"
      ],
      "execution_count": null,
      "outputs": []
    },
    {
      "cell_type": "code",
      "metadata": {
        "id": "dAtgLimLDDN7"
      },
      "source": [
        "# trian_data는 학습용 데이터셋, test_data는 검증용 데이터셋 \r\n",
        "train_data = windowed_dataset(y_train, WINDOW_SIZE, BATCH_SIZE, True)\r\n",
        "test_data = windowed_dataset(y_test, WINDOW_SIZE, BATCH_SIZE, False)"
      ],
      "execution_count": null,
      "outputs": []
    },
    {
      "cell_type": "code",
      "metadata": {
        "colab": {
          "base_uri": "https://localhost:8080/"
        },
        "id": "FfSFydZSDEj_",
        "outputId": "67a01527-115d-48fd-9cda-5c74910897bd"
      },
      "source": [
        "\r\n",
        "# X: (batch_size, window_size, feature)\r\n",
        "# Y: (batch_size, feature)\r\n",
        "for data in train_data.take(1):\r\n",
        "    print(f'데이터셋(X) 구성(batch_size, window_size, feature갯수): {data[0].shape}')\r\n",
        "    print(f'데이터셋(Y) 구성(batch_size, window_size, feature갯수): {data[1].shape}')"
      ],
      "execution_count": null,
      "outputs": [
        {
          "output_type": "stream",
          "text": [
            "데이터셋(X) 구성(batch_size, window_size, feature갯수): (32, 20, 1)\n",
            "데이터셋(Y) 구성(batch_size, window_size, feature갯수): (32, 1)\n"
          ],
          "name": "stdout"
        }
      ]
    },
    {
      "cell_type": "code",
      "metadata": {
        "id": "UwPMEdXLDGft"
      },
      "source": [
        "#모델링\r\n",
        "from tensorflow.keras.models import Sequential\r\n",
        "from tensorflow.keras.layers import Dense, LSTM, Conv1D, Lambda\r\n",
        "from tensorflow.keras.losses import Huber\r\n",
        "from tensorflow.keras.optimizers import Adam\r\n",
        "from tensorflow.keras.callbacks import EarlyStopping, ModelCheckpoint\r\n",
        "\r\n",
        "\r\n",
        "model = Sequential([\r\n",
        "    # 1차원 feature map 생성\r\n",
        "    Conv1D(filters=32, kernel_size=5,\r\n",
        "           padding=\"causal\",\r\n",
        "           activation=\"relu\",\r\n",
        "           input_shape=[WINDOW_SIZE, 1]),\r\n",
        "    # LSTM\r\n",
        "    LSTM(16, activation='tanh'),\r\n",
        "    Dense(16, activation=\"relu\"),\r\n",
        "    Dense(1),\r\n",
        "])\r\n"
      ],
      "execution_count": null,
      "outputs": []
    },
    {
      "cell_type": "code",
      "metadata": {
        "id": "CIHnfks2DJsV"
      },
      "source": [
        "# Sequence 학습에 비교적 좋은 퍼포먼스를 내는 Huber()를 사용\r\n",
        "loss = Huber()\r\n",
        "optimizer = Adam(0.0005)\r\n",
        "model.compile(loss=Huber(), optimizer=optimizer, metrics=['mse'])"
      ],
      "execution_count": null,
      "outputs": []
    },
    {
      "cell_type": "code",
      "metadata": {
        "id": "TlQCPIPLDLOH"
      },
      "source": [
        "# earlystopping은 10번 epoch통안 val_loss 개선이 없다면 학습을 멈추기.\r\n",
        "earlystopping = EarlyStopping(monitor='val_loss', patience=10)\r\n",
        "# val_loss 기준 체크포인터도 생성합니다.\r\n",
        "filename = os.path.join('tmp', 'ckeckpointer.ckpt')\r\n",
        "checkpoint = ModelCheckpoint(filename, \r\n",
        "                             save_weights_only=True, \r\n",
        "                             save_best_only=True, \r\n",
        "                             monitor='val_loss', \r\n",
        "                             verbose=1)"
      ],
      "execution_count": null,
      "outputs": []
    },
    {
      "cell_type": "code",
      "metadata": {
        "colab": {
          "base_uri": "https://localhost:8080/"
        },
        "id": "iQsMysOnDNG5",
        "outputId": "8834994b-3c10-437c-a381-39a2947f8572"
      },
      "source": [
        "history = model.fit(train_data, \r\n",
        "                    validation_data=(test_data), \r\n",
        "                    epochs=50, \r\n",
        "                    callbacks=[checkpoint, earlystopping])"
      ],
      "execution_count": null,
      "outputs": [
        {
          "output_type": "stream",
          "text": [
            "Epoch 1/50\n",
            "131/131 [==============================] - 4s 16ms/step - loss: 0.0012 - mse: 0.0024 - val_loss: 0.0015 - val_mse: 0.0030\n",
            "\n",
            "Epoch 00001: val_loss improved from inf to 0.00149, saving model to tmp/ckeckpointer.ckpt\n",
            "Epoch 2/50\n",
            "131/131 [==============================] - 2s 11ms/step - loss: 1.7920e-04 - mse: 3.5841e-04 - val_loss: 0.0012 - val_mse: 0.0023\n",
            "\n",
            "Epoch 00002: val_loss improved from 0.00149 to 0.00116, saving model to tmp/ckeckpointer.ckpt\n",
            "Epoch 3/50\n",
            "131/131 [==============================] - 2s 11ms/step - loss: 1.7707e-04 - mse: 3.5413e-04 - val_loss: 9.0341e-04 - val_mse: 0.0018\n",
            "\n",
            "Epoch 00003: val_loss improved from 0.00116 to 0.00090, saving model to tmp/ckeckpointer.ckpt\n",
            "Epoch 4/50\n",
            "131/131 [==============================] - 2s 11ms/step - loss: 1.5453e-04 - mse: 3.0906e-04 - val_loss: 7.9564e-04 - val_mse: 0.0016\n",
            "\n",
            "Epoch 00004: val_loss improved from 0.00090 to 0.00080, saving model to tmp/ckeckpointer.ckpt\n",
            "Epoch 5/50\n",
            "131/131 [==============================] - 2s 11ms/step - loss: 1.2848e-04 - mse: 2.5696e-04 - val_loss: 0.0014 - val_mse: 0.0028\n",
            "\n",
            "Epoch 00005: val_loss did not improve from 0.00080\n",
            "Epoch 6/50\n",
            "131/131 [==============================] - 2s 12ms/step - loss: 9.6582e-05 - mse: 1.9316e-04 - val_loss: 0.0011 - val_mse: 0.0023\n",
            "\n",
            "Epoch 00006: val_loss did not improve from 0.00080\n",
            "Epoch 7/50\n",
            "131/131 [==============================] - 2s 11ms/step - loss: 1.1425e-04 - mse: 2.2849e-04 - val_loss: 0.0012 - val_mse: 0.0024\n",
            "\n",
            "Epoch 00007: val_loss did not improve from 0.00080\n",
            "Epoch 8/50\n",
            "131/131 [==============================] - 2s 12ms/step - loss: 1.0884e-04 - mse: 2.1769e-04 - val_loss: 0.0012 - val_mse: 0.0024\n",
            "\n",
            "Epoch 00008: val_loss did not improve from 0.00080\n",
            "Epoch 9/50\n",
            "131/131 [==============================] - 2s 11ms/step - loss: 1.0098e-04 - mse: 2.0197e-04 - val_loss: 0.0010 - val_mse: 0.0021\n",
            "\n",
            "Epoch 00009: val_loss did not improve from 0.00080\n",
            "Epoch 10/50\n",
            "131/131 [==============================] - 2s 11ms/step - loss: 8.0620e-05 - mse: 1.6124e-04 - val_loss: 0.0014 - val_mse: 0.0027\n",
            "\n",
            "Epoch 00010: val_loss did not improve from 0.00080\n",
            "Epoch 11/50\n",
            "131/131 [==============================] - 2s 11ms/step - loss: 8.3293e-05 - mse: 1.6659e-04 - val_loss: 0.0014 - val_mse: 0.0028\n",
            "\n",
            "Epoch 00011: val_loss did not improve from 0.00080\n",
            "Epoch 12/50\n",
            "131/131 [==============================] - 2s 11ms/step - loss: 7.6941e-05 - mse: 1.5388e-04 - val_loss: 0.0012 - val_mse: 0.0024\n",
            "\n",
            "Epoch 00012: val_loss did not improve from 0.00080\n",
            "Epoch 13/50\n",
            "131/131 [==============================] - 2s 11ms/step - loss: 5.9914e-05 - mse: 1.1983e-04 - val_loss: 0.0014 - val_mse: 0.0028\n",
            "\n",
            "Epoch 00013: val_loss did not improve from 0.00080\n",
            "Epoch 14/50\n",
            "131/131 [==============================] - 2s 11ms/step - loss: 6.0607e-05 - mse: 1.2121e-04 - val_loss: 0.0011 - val_mse: 0.0021\n",
            "\n",
            "Epoch 00014: val_loss did not improve from 0.00080\n"
          ],
          "name": "stdout"
        }
      ]
    },
    {
      "cell_type": "code",
      "metadata": {
        "colab": {
          "base_uri": "https://localhost:8080/"
        },
        "id": "yowf0O_FDOV4",
        "outputId": "b8f944df-cee3-4fbb-ce44-b75d4beff88f"
      },
      "source": [
        "#저장한 ModelCheckpoint 를 로드\r\n",
        "model.load_weights(filename)"
      ],
      "execution_count": null,
      "outputs": [
        {
          "output_type": "execute_result",
          "data": {
            "text/plain": [
              "<tensorflow.python.training.tracking.util.CheckpointLoadStatus at 0x7f69699cb080>"
            ]
          },
          "metadata": {
            "tags": []
          },
          "execution_count": 23
        }
      ]
    },
    {
      "cell_type": "code",
      "metadata": {
        "id": "4JmxKVuqDbLj"
      },
      "source": [
        "#test_data를 활용해서 예측\r\n",
        "pred = model.predict(test_data)"
      ],
      "execution_count": null,
      "outputs": []
    },
    {
      "cell_type": "code",
      "metadata": {
        "colab": {
          "base_uri": "https://localhost:8080/",
          "height": 537
        },
        "id": "S4frjgv7DRtW",
        "outputId": "42113822-0151-42a4-86d6-303491caaf63"
      },
      "source": [
        "#예측 데이터 시각화\r\n",
        "plt.figure(figsize=(12, 9))\r\n",
        "plt.plot(np.asarray(y_test)[20:], label='actual')\r\n",
        "plt.plot(pred, label='prediction')\r\n",
        "plt.legend()\r\n",
        "plt.show()"
      ],
      "execution_count": null,
      "outputs": [
        {
          "output_type": "display_data",
          "data": {
            "image/png": "[encoded data removed]",
            "text/plain": [
              "<Figure size 864x648 with 1 Axes>"
            ]
          },
          "metadata": {
            "tags": [],
            "needs_background": "light"
          }
        }
      ]
    },
    {
      "cell_type": "code",
      "metadata": {
        "id": "8OnVuwxQDXfM"
      },
      "source": [
        ""
      ],
      "execution_count": null,
      "outputs": []
    }
  ]
}